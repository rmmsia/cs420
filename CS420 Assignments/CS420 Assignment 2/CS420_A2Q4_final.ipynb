{
  "cells": [
    {
      "cell_type": "code",
      "execution_count": 1,
      "metadata": {
        "id": "QjHK80jR15cb",
        "colab": {
          "base_uri": "https://localhost:8080/"
        },
        "outputId": "0d3bc2e2-2888-43da-f58f-2c942479eec6"
      },
      "outputs": [
        {
          "output_type": "stream",
          "name": "stderr",
          "text": [
            "[nltk_data] Downloading package stopwords to /root/nltk_data...\n",
            "[nltk_data]   Unzipping corpora/stopwords.zip.\n",
            "[nltk_data] Downloading package punkt to /root/nltk_data...\n",
            "[nltk_data]   Unzipping tokenizers/punkt.zip.\n"
          ]
        },
        {
          "output_type": "stream",
          "name": "stdout",
          "text": [
            "Mounted at /content/drive\n"
          ]
        }
      ],
      "source": [
        "import nltk\n",
        "nltk.download('stopwords')\n",
        "from nltk.corpus import stopwords\n",
        "nltk.download('punkt')\n",
        "\n",
        "import numpy as np\n",
        "import pandas as pd\n",
        "from gensim.models import word2vec\n",
        "\n",
        "from google.colab import drive\n",
        "drive.mount('/content/drive')\n",
        "\n",
        "import re # For regular expressions"
      ]
    },
    {
      "cell_type": "markdown",
      "metadata": {
        "id": "UTam_xXUv2Z9"
      },
      "source": [
        "## (a) Load the dataset"
      ]
    },
    {
      "cell_type": "code",
      "source": [
        "tokenizer = nltk.data.load('tokenizers/punkt/english.pickle')\n",
        "\n",
        "def load_data():\n",
        "    \"\"\" Read tweets from the file.\n",
        "        Return:\n",
        "            list of lists (list_words), with words from each of the processed tweets\n",
        "    \"\"\"\n",
        "    tweets = pd.read_csv('/content/drive/MyDrive/Colab Notebooks/CS420/Assignment 2/Corona_Tweets_large.csv', names=['text'])\n",
        "    list_words = []\n",
        "    ### iterate over all tweets from the dataset\n",
        "    for i in tweets.index:\n",
        "      ### remove non-letter.\n",
        "      text = re.sub(\"[^a-zA-Z]\",\" \", tweets.loc[i, 'text'])\n",
        "      ### tokenize\n",
        "      words = nltk.word_tokenize(text)\n",
        "\n",
        "      new_words = []\n",
        "      ### iterate over all words of a tweet\n",
        "      stop_words = set(stopwords.words('english'))\n",
        "      ## TODO: remove the stop words and convert a word (w) to the lower case\n",
        "      for w in words:\n",
        "        if w not in stop_words:\n",
        "          new_words.append(w.lower())\n",
        "\n",
        "      list_words.append(new_words)\n",
        "      # print(new_words)\n",
        "    return list_words\n",
        "# check a few samples of twitter corpus\n",
        "twitter_corpus = load_data()\n",
        "print(twitter_corpus[:3])"
      ],
      "metadata": {
        "id": "xQsTJcH2X-9E",
        "colab": {
          "base_uri": "https://localhost:8080/"
        },
        "outputId": "b6281f8a-b391-48de-b99b-ad387bea339a"
      },
      "execution_count": 2,
      "outputs": [
        {
          "output_type": "stream",
          "name": "stdout",
          "text": [
            "[['if', 'i', 'smelled', 'scent', 'hand', 'sanitizers', 'today', 'someone', 'past', 'i', 'would', 'think', 'intoxicated', 'https', 'co', 'qzvybrogb'], ['hey', 'yankees', 'yankeespr', 'mlb', 'made', 'sense', 'players', 'pay', 'respects', 'a', 'https', 'co', 'qvw', 'zgypu'], ['diane', 'wdunlap', 'realdonaldtrump', 'trump', 'never', 'claimed', 'covid', 'hoax', 'we', 'claim', 'effort', 'https', 'co', 'jkk', 'vhwhb']]\n"
          ]
        }
      ]
    },
    {
      "cell_type": "markdown",
      "metadata": {
        "id": "D4dOMjKj15cy"
      },
      "source": [
        "## (b) Word2Vec"
      ]
    },
    {
      "cell_type": "code",
      "execution_count": 3,
      "metadata": {
        "id": "jRti6Rn815cy",
        "colab": {
          "base_uri": "https://localhost:8080/"
        },
        "outputId": "2662dc01-ad25-4d0b-ba59-7b41f9076cc9"
      },
      "outputs": [
        {
          "output_type": "stream",
          "name": "stdout",
          "text": [
            "Training Word2Vec model....\n"
          ]
        },
        {
          "output_type": "stream",
          "name": "stderr",
          "text": [
            "<ipython-input-3-b1e9bf9d6e8a>:19: DeprecationWarning: Call to deprecated `init_sims` (Gensim 4.0.0 implemented internal optimizations that make calls to init_sims() unnecessary. init_sims() is now obsoleted and will be completely removed in future versions. See https://github.com/RaRe-Technologies/gensim/wiki/Migrating-from-Gensim-3.x-to-4).\n",
            "  model.init_sims(replace=True)\n",
            "WARNING:gensim.models.keyedvectors:destructive init_sims(replace=True) deprecated & no longer required for space-efficiency\n"
          ]
        }
      ],
      "source": [
        "# Creating the word2vec model and setting values for the various parameters\n",
        "\n",
        "# Initializing the train model.\n",
        "num_features = 125   # Word vector dimensionality\n",
        "min_word_count = 10  # Minimum word count. You can change it also.\n",
        "num_workers = 4     # Number of parallel threads, can be changed\n",
        "context = 10        # Context window size\n",
        "downsampling = 1e-3 # (0.001) Downsample setting for frequent words, can be changed\n",
        "# Initializing the train model\n",
        "print(\"Training Word2Vec model....\")\n",
        "model = word2vec.Word2Vec(twitter_corpus,\\\n",
        "                          workers=num_workers,\\\n",
        "                          vector_size=num_features,\\\n",
        "                          min_count=min_word_count,\\\n",
        "                          window=context,\n",
        "                          sample=downsampling)\n",
        "\n",
        "# To make the model memory efficient\n",
        "model.init_sims(replace=True)"
      ]
    },
    {
      "cell_type": "code",
      "execution_count": 4,
      "metadata": {
        "id": "BxVYovyL15c5",
        "colab": {
          "base_uri": "https://localhost:8080/"
        },
        "outputId": "47f51640-e3ba-4bc6-8387-38782e6e5598"
      },
      "outputs": [
        {
          "output_type": "execute_result",
          "data": {
            "text/plain": [
              "[('coronavirus', 0.4285234808921814),\n",
              " ('contained', 0.40343719720840454),\n",
              " ('jakarta', 0.3946060538291931),\n",
              " ('plus', 0.38701462745666504),\n",
              " ('prompts', 0.38632798194885254),\n",
              " ('more', 0.3799235224723816),\n",
              " ('viru', 0.37390199303627014),\n",
              " ('successfully', 0.3696480691432953),\n",
              " ('ukcovid', 0.36930474638938904),\n",
              " ('hurricane', 0.367278128862381)]"
            ]
          },
          "metadata": {},
          "execution_count": 4
        }
      ],
      "source": [
        "model.wv.most_similar(\"covid\") #this word2vec trained model on tweets"
      ]
    },
    {
      "cell_type": "code",
      "source": [
        "model.wv.most_similar(\"grocery\")"
      ],
      "metadata": {
        "id": "UcsipeIhpaHh",
        "colab": {
          "base_uri": "https://localhost:8080/"
        },
        "outputId": "1afaa591-74a0-42ca-c6cf-d01e94c7f287"
      },
      "execution_count": 5,
      "outputs": [
        {
          "output_type": "execute_result",
          "data": {
            "text/plain": [
              "[('store', 0.925132691860199),\n",
              " ('shop', 0.9137942790985107),\n",
              " ('shopping', 0.8718840479850769),\n",
              " ('socially', 0.8441929221153259),\n",
              " ('stores', 0.8441144227981567),\n",
              " ('barber', 0.8361119627952576),\n",
              " ('comfortable', 0.8312827944755554),\n",
              " ('distanced', 0.8270167708396912),\n",
              " ('shoppers', 0.8251228928565979),\n",
              " ('restaurant', 0.8118851184844971)]"
            ]
          },
          "metadata": {},
          "execution_count": 5
        }
      ]
    },
    {
      "cell_type": "code",
      "source": [
        "model.wv.most_similar(\"virus\")"
      ],
      "metadata": {
        "id": "A1X7P3q-pcEK",
        "colab": {
          "base_uri": "https://localhost:8080/"
        },
        "outputId": "6379b2bf-3616-47bf-dd06-d5c0022e4fad"
      },
      "execution_count": 6,
      "outputs": [
        {
          "output_type": "execute_result",
          "data": {
            "text/plain": [
              "[('deadly', 0.6358702182769775),\n",
              " ('herd', 0.6308822631835938),\n",
              " ('contagious', 0.61180579662323),\n",
              " ('control', 0.5976990461349487),\n",
              " ('viruses', 0.5927829742431641),\n",
              " ('wuhan', 0.5793089270591736),\n",
              " ('controlled', 0.5730675458908081),\n",
              " ('underestimate', 0.5659732818603516),\n",
              " ('disease', 0.5549526214599609),\n",
              " ('known', 0.5524728894233704)]"
            ]
          },
          "metadata": {},
          "execution_count": 6
        }
      ]
    },
    {
      "cell_type": "code",
      "source": [
        "model.wv.most_similar(\"corona\")"
      ],
      "metadata": {
        "id": "BTs8bj12Jr4d",
        "colab": {
          "base_uri": "https://localhost:8080/"
        },
        "outputId": "9bdc0ef2-2ca3-47ec-dc7d-827388c06791"
      },
      "execution_count": 7,
      "outputs": [
        {
          "output_type": "execute_result",
          "data": {
            "text/plain": [
              "[('coronainfoch', 0.6885880827903748),\n",
              " ('worldnews', 0.6820882558822632),\n",
              " ('genetically', 0.5453908443450928),\n",
              " ('bat', 0.5453872680664062),\n",
              " ('source', 0.5437778830528259),\n",
              " ('cpho', 0.5250560641288757),\n",
              " ('utc', 0.5163848996162415),\n",
              " ('spectatorindex', 0.5046815872192383),\n",
              " ('wuhan', 0.4883095920085907),\n",
              " ('coronavirusapp', 0.4879246652126312)]"
            ]
          },
          "metadata": {},
          "execution_count": 7
        }
      ]
    },
    {
      "cell_type": "code",
      "source": [
        "model.wv.most_similar(\"pandemic\")"
      ],
      "metadata": {
        "id": "gcPow9fUJt-E",
        "colab": {
          "base_uri": "https://localhost:8080/"
        },
        "outputId": "5e57b9dc-2d0f-411b-9672-e4fc29e4ae48"
      },
      "execution_count": 8,
      "outputs": [
        {
          "output_type": "execute_result",
          "data": {
            "text/plain": [
              "[('crisis', 0.7297680377960205),\n",
              " ('pan', 0.5557994246482849),\n",
              " ('warming', 0.5437407493591309),\n",
              " ('wemerry', 0.5380669236183167),\n",
              " ('pandemi', 0.5360347032546997),\n",
              " ('disruption', 0.5346295237541199),\n",
              " ('fears', 0.5333794355392456),\n",
              " ('crises', 0.5305386781692505),\n",
              " ('threat', 0.5175558924674988),\n",
              " ('gracepoint', 0.5024921298027039)]"
            ]
          },
          "metadata": {},
          "execution_count": 8
        }
      ]
    },
    {
      "cell_type": "code",
      "source": [
        "model.wv.most_similar(\"lockdown\")"
      ],
      "metadata": {
        "id": "Wq7VaCitO0gw",
        "colab": {
          "base_uri": "https://localhost:8080/"
        },
        "outputId": "7c3daa3b-7052-49dc-8a82-c53904f94c24"
      },
      "execution_count": 9,
      "outputs": [
        {
          "output_type": "execute_result",
          "data": {
            "text/plain": [
              "[('restrictions', 0.7503029108047485),\n",
              " ('lifted', 0.6747542023658752),\n",
              " ('imposed', 0.6722403168678284),\n",
              " ('easing', 0.6710984110832214),\n",
              " ('quarantine', 0.6448826193809509),\n",
              " ('melbourne', 0.6286118030548096),\n",
              " ('curfew', 0.6204643845558167),\n",
              " ('auckland', 0.6159437298774719),\n",
              " ('travel', 0.6059140563011169),\n",
              " ('road', 0.6056724190711975)]"
            ]
          },
          "metadata": {},
          "execution_count": 9
        }
      ]
    }
  ],
  "metadata": {
    "kernelspec": {
      "display_name": "Python 3",
      "name": "python3"
    },
    "language_info": {
      "codemirror_mode": {
        "name": "ipython",
        "version": 3
      },
      "file_extension": ".py",
      "mimetype": "text/x-python",
      "name": "python",
      "nbconvert_exporter": "python",
      "pygments_lexer": "ipython3",
      "version": "3.7.6"
    },
    "colab": {
      "provenance": [],
      "gpuType": "T4"
    },
    "accelerator": "GPU"
  },
  "nbformat": 4,
  "nbformat_minor": 0
}