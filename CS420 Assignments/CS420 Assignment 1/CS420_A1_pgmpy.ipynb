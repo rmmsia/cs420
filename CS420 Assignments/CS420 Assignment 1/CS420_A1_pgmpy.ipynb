{
  "nbformat": 4,
  "nbformat_minor": 0,
  "metadata": {
    "colab": {
      "provenance": [],
      "gpuType": "T4"
    },
    "kernelspec": {
      "name": "python3",
      "display_name": "Python 3"
    },
    "language_info": {
      "name": "python"
    },
    "accelerator": "GPU"
  },
  "cells": [
    {
      "cell_type": "code",
      "source": [
        "!pip install pgmpy"
      ],
      "metadata": {
        "colab": {
          "base_uri": "https://localhost:8080/"
        },
        "id": "jTEQjlMafknI",
        "outputId": "47e079ee-820d-4e29-bf60-26743dc3a270"
      },
      "execution_count": 1,
      "outputs": [
        {
          "output_type": "stream",
          "name": "stdout",
          "text": [
            "Collecting pgmpy\n",
            "  Downloading pgmpy-0.1.25-py3-none-any.whl (2.0 MB)\n",
            "\u001b[2K     \u001b[90m━━━━━━━━━━━━━━━━━━━━━━━━━━━━━━━━━━━━━━━━\u001b[0m \u001b[32m2.0/2.0 MB\u001b[0m \u001b[31m8.8 MB/s\u001b[0m eta \u001b[36m0:00:00\u001b[0m\n",
            "\u001b[?25hRequirement already satisfied: networkx in /usr/local/lib/python3.10/dist-packages (from pgmpy) (3.2.1)\n",
            "Requirement already satisfied: numpy in /usr/local/lib/python3.10/dist-packages (from pgmpy) (1.25.2)\n",
            "Requirement already satisfied: scipy in /usr/local/lib/python3.10/dist-packages (from pgmpy) (1.11.4)\n",
            "Requirement already satisfied: scikit-learn in /usr/local/lib/python3.10/dist-packages (from pgmpy) (1.2.2)\n",
            "Requirement already satisfied: pandas in /usr/local/lib/python3.10/dist-packages (from pgmpy) (2.0.3)\n",
            "Requirement already satisfied: pyparsing in /usr/local/lib/python3.10/dist-packages (from pgmpy) (3.1.2)\n",
            "Requirement already satisfied: torch in /usr/local/lib/python3.10/dist-packages (from pgmpy) (2.2.1+cu121)\n",
            "Requirement already satisfied: statsmodels in /usr/local/lib/python3.10/dist-packages (from pgmpy) (0.14.1)\n",
            "Requirement already satisfied: tqdm in /usr/local/lib/python3.10/dist-packages (from pgmpy) (4.66.2)\n",
            "Requirement already satisfied: joblib in /usr/local/lib/python3.10/dist-packages (from pgmpy) (1.3.2)\n",
            "Requirement already satisfied: opt-einsum in /usr/local/lib/python3.10/dist-packages (from pgmpy) (3.3.0)\n",
            "Requirement already satisfied: python-dateutil>=2.8.2 in /usr/local/lib/python3.10/dist-packages (from pandas->pgmpy) (2.8.2)\n",
            "Requirement already satisfied: pytz>=2020.1 in /usr/local/lib/python3.10/dist-packages (from pandas->pgmpy) (2023.4)\n",
            "Requirement already satisfied: tzdata>=2022.1 in /usr/local/lib/python3.10/dist-packages (from pandas->pgmpy) (2024.1)\n",
            "Requirement already satisfied: threadpoolctl>=2.0.0 in /usr/local/lib/python3.10/dist-packages (from scikit-learn->pgmpy) (3.4.0)\n",
            "Requirement already satisfied: patsy>=0.5.4 in /usr/local/lib/python3.10/dist-packages (from statsmodels->pgmpy) (0.5.6)\n",
            "Requirement already satisfied: packaging>=21.3 in /usr/local/lib/python3.10/dist-packages (from statsmodels->pgmpy) (24.0)\n",
            "Requirement already satisfied: filelock in /usr/local/lib/python3.10/dist-packages (from torch->pgmpy) (3.13.3)\n",
            "Requirement already satisfied: typing-extensions>=4.8.0 in /usr/local/lib/python3.10/dist-packages (from torch->pgmpy) (4.10.0)\n",
            "Requirement already satisfied: sympy in /usr/local/lib/python3.10/dist-packages (from torch->pgmpy) (1.12)\n",
            "Requirement already satisfied: jinja2 in /usr/local/lib/python3.10/dist-packages (from torch->pgmpy) (3.1.3)\n",
            "Requirement already satisfied: fsspec in /usr/local/lib/python3.10/dist-packages (from torch->pgmpy) (2023.6.0)\n",
            "Collecting nvidia-cuda-nvrtc-cu12==12.1.105 (from torch->pgmpy)\n",
            "  Using cached nvidia_cuda_nvrtc_cu12-12.1.105-py3-none-manylinux1_x86_64.whl (23.7 MB)\n",
            "Collecting nvidia-cuda-runtime-cu12==12.1.105 (from torch->pgmpy)\n",
            "  Using cached nvidia_cuda_runtime_cu12-12.1.105-py3-none-manylinux1_x86_64.whl (823 kB)\n",
            "Collecting nvidia-cuda-cupti-cu12==12.1.105 (from torch->pgmpy)\n",
            "  Using cached nvidia_cuda_cupti_cu12-12.1.105-py3-none-manylinux1_x86_64.whl (14.1 MB)\n",
            "Collecting nvidia-cudnn-cu12==8.9.2.26 (from torch->pgmpy)\n",
            "  Using cached nvidia_cudnn_cu12-8.9.2.26-py3-none-manylinux1_x86_64.whl (731.7 MB)\n",
            "Collecting nvidia-cublas-cu12==12.1.3.1 (from torch->pgmpy)\n",
            "  Using cached nvidia_cublas_cu12-12.1.3.1-py3-none-manylinux1_x86_64.whl (410.6 MB)\n",
            "Collecting nvidia-cufft-cu12==11.0.2.54 (from torch->pgmpy)\n",
            "  Using cached nvidia_cufft_cu12-11.0.2.54-py3-none-manylinux1_x86_64.whl (121.6 MB)\n",
            "Collecting nvidia-curand-cu12==10.3.2.106 (from torch->pgmpy)\n",
            "  Using cached nvidia_curand_cu12-10.3.2.106-py3-none-manylinux1_x86_64.whl (56.5 MB)\n",
            "Collecting nvidia-cusolver-cu12==11.4.5.107 (from torch->pgmpy)\n",
            "  Using cached nvidia_cusolver_cu12-11.4.5.107-py3-none-manylinux1_x86_64.whl (124.2 MB)\n",
            "Collecting nvidia-cusparse-cu12==12.1.0.106 (from torch->pgmpy)\n",
            "  Using cached nvidia_cusparse_cu12-12.1.0.106-py3-none-manylinux1_x86_64.whl (196.0 MB)\n",
            "Collecting nvidia-nccl-cu12==2.19.3 (from torch->pgmpy)\n",
            "  Using cached nvidia_nccl_cu12-2.19.3-py3-none-manylinux1_x86_64.whl (166.0 MB)\n",
            "Collecting nvidia-nvtx-cu12==12.1.105 (from torch->pgmpy)\n",
            "  Using cached nvidia_nvtx_cu12-12.1.105-py3-none-manylinux1_x86_64.whl (99 kB)\n",
            "Requirement already satisfied: triton==2.2.0 in /usr/local/lib/python3.10/dist-packages (from torch->pgmpy) (2.2.0)\n",
            "Collecting nvidia-nvjitlink-cu12 (from nvidia-cusolver-cu12==11.4.5.107->torch->pgmpy)\n",
            "  Using cached nvidia_nvjitlink_cu12-12.4.127-py3-none-manylinux2014_x86_64.whl (21.1 MB)\n",
            "Requirement already satisfied: six in /usr/local/lib/python3.10/dist-packages (from patsy>=0.5.4->statsmodels->pgmpy) (1.16.0)\n",
            "Requirement already satisfied: MarkupSafe>=2.0 in /usr/local/lib/python3.10/dist-packages (from jinja2->torch->pgmpy) (2.1.5)\n",
            "Requirement already satisfied: mpmath>=0.19 in /usr/local/lib/python3.10/dist-packages (from sympy->torch->pgmpy) (1.3.0)\n",
            "Installing collected packages: nvidia-nvtx-cu12, nvidia-nvjitlink-cu12, nvidia-nccl-cu12, nvidia-curand-cu12, nvidia-cufft-cu12, nvidia-cuda-runtime-cu12, nvidia-cuda-nvrtc-cu12, nvidia-cuda-cupti-cu12, nvidia-cublas-cu12, nvidia-cusparse-cu12, nvidia-cudnn-cu12, nvidia-cusolver-cu12, pgmpy\n",
            "Successfully installed nvidia-cublas-cu12-12.1.3.1 nvidia-cuda-cupti-cu12-12.1.105 nvidia-cuda-nvrtc-cu12-12.1.105 nvidia-cuda-runtime-cu12-12.1.105 nvidia-cudnn-cu12-8.9.2.26 nvidia-cufft-cu12-11.0.2.54 nvidia-curand-cu12-10.3.2.106 nvidia-cusolver-cu12-11.4.5.107 nvidia-cusparse-cu12-12.1.0.106 nvidia-nccl-cu12-2.19.3 nvidia-nvjitlink-cu12-12.4.127 nvidia-nvtx-cu12-12.1.105 pgmpy-0.1.25\n"
          ]
        }
      ]
    },
    {
      "cell_type": "code",
      "execution_count": 2,
      "metadata": {
        "id": "ggLdACvuX6t3"
      },
      "outputs": [],
      "source": [
        "# Import relevant packages\n",
        "from pgmpy.models import BayesianNetwork\n",
        "from pgmpy.factors.discrete import TabularCPD\n",
        "import sys"
      ]
    },
    {
      "cell_type": "code",
      "source": [
        "# Initialise Bayesian Net\n",
        "model = BayesianNetwork([('Smoking', 'Yellow Fingers'), ('Smoking', 'Cancer'), ('Solar Flares', 'Radiation'), ('Microwave', 'Radiation'), ('Radiation', 'Cancer'), ('Radiation', 'Skin Burn')])\n",
        "\n",
        "# Prior probability of smoking\n",
        "cpd_S = TabularCPD(variable='Smoking', variable_card=2, values=[[0.8], [0.2]])\n",
        "\n",
        "# Prior probability of solar flares\n",
        "cpd_F = TabularCPD(variable='Solar Flares', variable_card=2, values=[[0.999], [0.001]])\n",
        "\n",
        "# Prior probability of microwave\n",
        "cpd_M = TabularCPD(variable='Microwave', variable_card=2, values=[[0.1], [0.9]])"
      ],
      "metadata": {
        "id": "_IK1gn_8IDGz"
      },
      "execution_count": 3,
      "outputs": []
    },
    {
      "cell_type": "code",
      "source": [
        "# Conditional probability for Radiation or P(R | F,M)\n",
        "cpd_R = TabularCPD(variable='Radiation',variable_card=2, values = [\n",
        "                                  [0.99, 0.9, 0.7, 0.5],\n",
        "                                  [0.01, 0.1, 0.3, 0.5]],\n",
        "                                  evidence = ['Solar Flares', 'Microwave'],\n",
        "                                  evidence_card=[2, 2])\n",
        "\n",
        "# Conditional probability for Cancer or P(C | S,R)\n",
        "cpd_C = TabularCPD(variable='Cancer',variable_card=2, values = [\n",
        "                                  [0.9, 0.4, 0.8, 0.1],\n",
        "                                  [0.1, 0.6, 0.2, 0.9]],\n",
        "                                  evidence = ['Smoking', 'Radiation'],\n",
        "                                  evidence_card=[2, 2])\n",
        "\n",
        "# Conditional probability for Yellow Fingers or P(Y | S)\n",
        "cpd_Y = TabularCPD(variable='Yellow Fingers',variable_card=2, values = [\n",
        "                                  [0.9, 0.1],\n",
        "                                  [0.1, 0.9]],\n",
        "                                  evidence = ['Smoking'],\n",
        "                                  evidence_card=[2])\n",
        "\n",
        "# Conditional probability for Skin Burn or P(B | R)\n",
        "cpd_B = TabularCPD(variable='Skin Burn',variable_card=2, values = [\n",
        "                                  [0.99, 0.9],\n",
        "                                  [0.01, 0.1]],\n",
        "                                  evidence = ['Radiation'],\n",
        "                                  evidence_card=[2])\n",
        "\n",
        "model.add_cpds(cpd_S, cpd_F, cpd_M, cpd_R, cpd_C, cpd_Y, cpd_B)"
      ],
      "metadata": {
        "id": "usUfTVBWJ8VI"
      },
      "execution_count": 4,
      "outputs": []
    },
    {
      "cell_type": "markdown",
      "source": [
        "## Validate network parameters"
      ],
      "metadata": {
        "id": "BTkX9QNCN-5T"
      }
    },
    {
      "cell_type": "code",
      "source": [
        "print(model.check_model())\n",
        "print(model.get_cpds('Smoking'))"
      ],
      "metadata": {
        "colab": {
          "base_uri": "https://localhost:8080/"
        },
        "id": "bQJaUKU-OC0V",
        "outputId": "d4a4c58b-afdc-44ee-d983-57905b45a2d2"
      },
      "execution_count": 5,
      "outputs": [
        {
          "output_type": "stream",
          "name": "stdout",
          "text": [
            "True\n",
            "+------------+-----+\n",
            "| Smoking(0) | 0.8 |\n",
            "+------------+-----+\n",
            "| Smoking(1) | 0.2 |\n",
            "+------------+-----+\n"
          ]
        }
      ]
    },
    {
      "cell_type": "markdown",
      "source": [
        "### 1. Draw the Bayesian network clearly showing the nodes and arrows showing relationship among all the variables."
      ],
      "metadata": {
        "id": "yC9l0L6uOxIh"
      }
    },
    {
      "cell_type": "markdown",
      "source": [
        "![Screenshot 2024-04-11 at 13.00.52.png](data:image/png;base64,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)"
      ],
      "metadata": {
        "id": "bdBJkWnVh-Vj"
      }
    },
    {
      "cell_type": "markdown",
      "source": [
        "### 2. What is the probability of radiation given Cancer = 1? Show values for R=0, R=1"
      ],
      "metadata": {
        "id": "IXz18ayaO77f"
      }
    },
    {
      "cell_type": "code",
      "source": [
        "from pgmpy.inference import VariableElimination\n",
        "\n",
        "infer = VariableElimination(model)"
      ],
      "metadata": {
        "id": "G6LAxiATPU5W"
      },
      "execution_count": 6,
      "outputs": []
    },
    {
      "cell_type": "code",
      "source": [
        "# Compute probability of Radiation given Cancer =1\n",
        "phi_query = infer.query(['Radiation'], evidence={'Cancer':1})\n",
        "print('Probability of radiation given Cancer = 1')\n",
        "print(phi_query)"
      ],
      "metadata": {
        "colab": {
          "base_uri": "https://localhost:8080/"
        },
        "id": "rl9AQIdCPCat",
        "outputId": "552ed907-6fb7-4d28-b1fb-d7c8e3f59e17"
      },
      "execution_count": 7,
      "outputs": [
        {
          "output_type": "stream",
          "name": "stdout",
          "text": [
            "Probability of radiation given Cancer = 1\n",
            "+--------------+------------------+\n",
            "| Radiation    |   phi(Radiation) |\n",
            "+==============+==================+\n",
            "| Radiation(0) |           0.6438 |\n",
            "+--------------+------------------+\n",
            "| Radiation(1) |           0.3562 |\n",
            "+--------------+------------------+\n"
          ]
        }
      ]
    },
    {
      "cell_type": "markdown",
      "source": [
        "### 3. What is the probability of cancer given Skin Burn = 1? Show values for C=0, C=1"
      ],
      "metadata": {
        "id": "RrNh3zu2Poq-"
      }
    },
    {
      "cell_type": "code",
      "source": [
        "phi_query = infer.query(['Cancer'], evidence={'Skin Burn':1})\n",
        "print('Probability of cancer given Skin Burn = 1')\n",
        "print(phi_query)"
      ],
      "metadata": {
        "colab": {
          "base_uri": "https://localhost:8080/"
        },
        "id": "A0Jx_CowPxLn",
        "outputId": "5d78feab-160b-4b15-808e-3a3567c3110e"
      },
      "execution_count": 8,
      "outputs": [
        {
          "output_type": "stream",
          "name": "stdout",
          "text": [
            "Probability of cancer given Skin Burn = 1\n",
            "+-----------+---------------+\n",
            "| Cancer    |   phi(Cancer) |\n",
            "+===========+===============+\n",
            "| Cancer(0) |        0.6092 |\n",
            "+-----------+---------------+\n",
            "| Cancer(1) |        0.3908 |\n",
            "+-----------+---------------+\n"
          ]
        }
      ]
    },
    {
      "cell_type": "markdown",
      "source": [
        "### 4. Are Smoking and using microwave independent given cancer? Justify your answer."
      ],
      "metadata": {
        "id": "_n9OxMBBQVub"
      }
    },
    {
      "cell_type": "markdown",
      "source": [
        "No, smoking and using microwave are not independent given cancer.\n",
        "\n",
        "Given the Bayesian Network in 1., the trail between Smoking (S) and Microwave (M) is active given Cancer (C).\n",
        "\n",
        "The only trail between S and M is as follows: S -> C <- R <- M, and the evidence set E = {C}\n",
        "\n",
        "There exists a V-structure on the node C, but C is in the evidence set. This means the trail is active. Since all trails between S and M are active, S and M are not d-separated, hence Smoking and using Microwave are not independent given cancer."
      ],
      "metadata": {
        "id": "W-gmRocah1Cg"
      }
    },
    {
      "cell_type": "markdown",
      "source": [
        "### 5. What is the probability of cancer = 1 if you never use a microwave?"
      ],
      "metadata": {
        "id": "Y4ZjOciKRiXn"
      }
    },
    {
      "cell_type": "code",
      "source": [
        "phi_query = infer.query(['Cancer'], evidence={'Microwave':0})\n",
        "print('Probability of cancer given Microwave = 0')\n",
        "print(phi_query)"
      ],
      "metadata": {
        "colab": {
          "base_uri": "https://localhost:8080/"
        },
        "id": "4BX2dHOIUKH2",
        "outputId": "40d010aa-facb-41e9-d129-ae86078d8879"
      },
      "execution_count": 9,
      "outputs": [
        {
          "output_type": "stream",
          "name": "stdout",
          "text": [
            "Probability of cancer given Microwave = 0\n",
            "+-----------+---------------+\n",
            "| Cancer    |   phi(Cancer) |\n",
            "+===========+===============+\n",
            "| Cancer(0) |        0.8744 |\n",
            "+-----------+---------------+\n",
            "| Cancer(1) |        0.1256 |\n",
            "+-----------+---------------+\n"
          ]
        }
      ]
    }
  ]
}