{
  "cells": [
    {
      "cell_type": "markdown",
      "metadata": {
        "id": "y5niXr3T2K7d"
      },
      "source": [
        "### Question 4"
      ]
    },
    {
      "cell_type": "markdown",
      "metadata": {
        "id": "6EXa6DRW2ZyV"
      },
      "source": [
        "#### Import relevant packages"
      ]
    },
    {
      "cell_type": "code",
      "execution_count": 1,
      "metadata": {
        "id": "Sgf1XoAoC2X2"
      },
      "outputs": [],
      "source": [
        "from matplotlib import pyplot as plt\n",
        "import tensorflow as tf\n",
        "from tensorflow.keras import layers\n",
        "import numpy as np"
      ]
    },
    {
      "cell_type": "markdown",
      "metadata": {
        "id": "MX5zcJj-2kMD"
      },
      "source": [
        "#### (a) Load the dataset `citrus_leaves` from `tensorflow_datasets`. Split the dataset into 60% for training and 40% for testing [**2 points**]"
      ]
    },
    {
      "cell_type": "code",
      "execution_count": 2,
      "metadata": {
        "id": "ERbxg-O05C5A"
      },
      "outputs": [
        {
          "name": "stderr",
          "output_type": "stream",
          "text": [
            "2024-02-16 16:30:52.144496: I metal_plugin/src/device/metal_device.cc:1154] Metal device set to: Apple M1 Pro\n",
            "2024-02-16 16:30:52.144519: I metal_plugin/src/device/metal_device.cc:296] systemMemory: 16.00 GB\n",
            "2024-02-16 16:30:52.144523: I metal_plugin/src/device/metal_device.cc:313] maxCacheSize: 5.33 GB\n",
            "2024-02-16 16:30:52.144563: I tensorflow/core/common_runtime/pluggable_device/pluggable_device_factory.cc:306] Could not identify NUMA node of platform GPU ID 0, defaulting to 0. Your kernel may not have been built with NUMA support.\n",
            "2024-02-16 16:30:52.144577: I tensorflow/core/common_runtime/pluggable_device/pluggable_device_factory.cc:272] Created TensorFlow device (/job:localhost/replica:0/task:0/device:GPU:0 with 0 MB memory) -> physical PluggableDevice (device: 0, name: METAL, pci bus id: <undefined>)\n"
          ]
        }
      ],
      "source": [
        "import tensorflow_datasets as tfds\n",
        "\n",
        "## write your code here\n",
        "\n",
        "ds = tfds.load('citrus_leaves', split='train', as_supervised=True)"
      ]
    },
    {
      "cell_type": "code",
      "execution_count": 3,
      "metadata": {
        "id": "eOkqSP3X6gNz"
      },
      "outputs": [],
      "source": [
        "## write your code here to split data into 60% train 40% test\n",
        "\n",
        "train_size = int(0.6 * len(ds))\n",
        "test_size = len(ds) - train_size\n",
        "\n",
        "train_dataset = ds.take(train_size)\n",
        "test_dataset = ds.skip(train_size)\n",
        "\n",
        "train_dataset = tfds.as_numpy(train_dataset)\n",
        "test_dataset = tfds.as_numpy(test_dataset)"
      ]
    },
    {
      "cell_type": "code",
      "execution_count": 4,
      "metadata": {
        "id": "K9vaCqKaup1w"
      },
      "outputs": [
        {
          "name": "stderr",
          "output_type": "stream",
          "text": [
            "2024-02-16 16:30:52.204165: I tensorflow/core/common_runtime/executor.cc:1197] [/device:CPU:0] (DEBUG INFO) Executor start aborting (this does not indicate an error and you can ignore this message): INVALID_ARGUMENT: You must feed a value for placeholder tensor 'Placeholder/_0' with dtype string and shape [1]\n",
            "\t [[{{node Placeholder/_0}}]]\n",
            "2024-02-16 16:30:52.204430: I tensorflow/core/common_runtime/executor.cc:1197] [/device:CPU:0] (DEBUG INFO) Executor start aborting (this does not indicate an error and you can ignore this message): INVALID_ARGUMENT: You must feed a value for placeholder tensor 'Placeholder/_0' with dtype string and shape [1]\n",
            "\t [[{{node Placeholder/_0}}]]\n",
            "2024-02-16 16:30:52.212455: W tensorflow/tsl/platform/profile_utils/cpu_utils.cc:128] Failed to get CPU frequency: 0 Hz\n",
            "2024-02-16 16:30:52.341874: W tensorflow/core/kernels/data/cache_dataset_ops.cc:856] The calling iterator did not fully read the dataset being cached. In order to avoid unexpected truncation of the dataset, the partially cached contents of the dataset  will be discarded. This can happen if you have an input pipeline similar to `dataset.cache().take(k).repeat()`. You should use `dataset.take(k).cache().repeat()` instead.\n",
            "2024-02-16 16:30:52.354999: I tensorflow/core/common_runtime/executor.cc:1197] [/device:CPU:0] (DEBUG INFO) Executor start aborting (this does not indicate an error and you can ignore this message): INVALID_ARGUMENT: You must feed a value for placeholder tensor 'Placeholder/_4' with dtype int64 and shape [1]\n",
            "\t [[{{node Placeholder/_4}}]]\n",
            "2024-02-16 16:30:52.355269: I tensorflow/core/common_runtime/executor.cc:1197] [/device:CPU:0] (DEBUG INFO) Executor start aborting (this does not indicate an error and you can ignore this message): INVALID_ARGUMENT: You must feed a value for placeholder tensor 'Placeholder/_2' with dtype string and shape [1]\n",
            "\t [[{{node Placeholder/_2}}]]\n"
          ]
        }
      ],
      "source": [
        "# prepare training data\n",
        "train_images = []\n",
        "train_labels = []\n",
        "\n",
        "for i in train_dataset:\n",
        "  train_images.append(i[0])\n",
        "  train_labels.append(i[1])\n",
        "\n",
        "# convert to numpy arrays\n",
        "train_images = np.array(train_images)\n",
        "train_labels = np.array(train_labels)\n",
        "\n",
        "# prepare test data\n",
        "test_images = []\n",
        "test_labels = []\n",
        "\n",
        "for i in test_dataset:\n",
        "  test_images.append(i[0])\n",
        "  test_labels.append(i[1])\n",
        "\n",
        "# convert to numpy arrays\n",
        "test_images = np.array(test_images)\n",
        "test_labels = np.array(test_labels)\n",
        "\n",
        "# normalize the images\n",
        "train_images = train_images / 255.0\n",
        "test_images = test_images / 255.0"
      ]
    },
    {
      "cell_type": "markdown",
      "metadata": {
        "id": "aa-fkHXkqbr4"
      },
      "source": [
        "#### (b) Build a dense ANN with at least one hidden layer with at least two nodes. You should try different hyper parameter configurations to get the best performing ANN. [**2 points**]"
      ]
    },
    {
      "cell_type": "code",
      "execution_count": 5,
      "metadata": {
        "id": "Rgef5Zf96kSo"
      },
      "outputs": [],
      "source": [
        "## write your code here to build your dense ANN\n",
        "\n",
        "model = tf.keras.Sequential()\n",
        "model.add(layers.Flatten(input_shape=(256, 256, 3)))    # input layer\n",
        "model.add(layers.Dense(512, activation=tf.nn.elu))   # hidden layer 1\n",
        "# model.add(layers.Dense(256, activation=tf.nn.leaky_relu))      # hidden layer 2\n",
        "# model.add(layers.Dense(64, activation=tf.nn.relu))\n",
        "model.add(layers.Dense(4, activation=tf.nn.softmax))    # output layer with 4 outputs"
      ]
    },
    {
      "cell_type": "markdown",
      "metadata": {
        "id": "3jpiyjS6rMVZ"
      },
      "source": [
        "#### (c) Answer the following questions: [**1 point**]\n",
        "\n",
        "What is the size of your output layer? [4]\n",
        "\n",
        "What is the activation function of your output layer? [SoftMax]"
      ]
    },
    {
      "cell_type": "markdown",
      "metadata": {
        "id": "yTrcDebWsg7J"
      },
      "source": [
        "#### (d) Compile and train your model [**2 points**]\n",
        "\n",
        "What is the loss function you use? [Cross Entropy]"
      ]
    },
    {
      "cell_type": "code",
      "execution_count": 6,
      "metadata": {
        "id": "48c-cHC26pLN"
      },
      "outputs": [],
      "source": [
        "### write your code here to compile model\n",
        "\n",
        "model.compile(optimizer= tf.optimizers.legacy.Adam(),\n",
        "              loss='sparse_categorical_crossentropy',\n",
        "              metrics=['accuracy'])"
      ]
    },
    {
      "cell_type": "code",
      "execution_count": 7,
      "metadata": {
        "colab": {
          "base_uri": "https://localhost:8080/"
        },
        "id": "-gxnIxTP6-PO",
        "outputId": "cc2f2ef9-4f39-4b46-b58e-26586ec3deb1"
      },
      "outputs": [
        {
          "name": "stdout",
          "output_type": "stream",
          "text": [
            "Epoch 1/128\n"
          ]
        },
        {
          "name": "stderr",
          "output_type": "stream",
          "text": [
            "2024-02-16 16:30:53.115130: I tensorflow/core/grappler/optimizers/custom_graph_optimizer_registry.cc:114] Plugin optimizer for device_type GPU is enabled.\n"
          ]
        },
        {
          "name": "stdout",
          "output_type": "stream",
          "text": [
            "12/12 [==============================] - ETA: 0s - loss: 216.7331 - accuracy: 0.3034"
          ]
        },
        {
          "name": "stderr",
          "output_type": "stream",
          "text": [
            "2024-02-16 16:30:54.358782: I tensorflow/core/grappler/optimizers/custom_graph_optimizer_registry.cc:114] Plugin optimizer for device_type GPU is enabled.\n"
          ]
        },
        {
          "name": "stdout",
          "output_type": "stream",
          "text": [
            "12/12 [==============================] - 2s 121ms/step - loss: 216.7331 - accuracy: 0.3034 - val_loss: 55.7471 - val_accuracy: 0.2689\n",
            "Epoch 2/128\n",
            "12/12 [==============================] - 1s 85ms/step - loss: 22.4853 - accuracy: 0.3258 - val_loss: 34.2087 - val_accuracy: 0.2773\n",
            "Epoch 3/128\n",
            "12/12 [==============================] - 1s 83ms/step - loss: 19.7027 - accuracy: 0.3511 - val_loss: 9.4177 - val_accuracy: 0.3908\n",
            "Epoch 4/128\n",
            "12/12 [==============================] - 1s 82ms/step - loss: 7.0614 - accuracy: 0.4157 - val_loss: 8.8472 - val_accuracy: 0.3529\n",
            "Epoch 5/128\n",
            "12/12 [==============================] - 1s 83ms/step - loss: 6.5489 - accuracy: 0.3961 - val_loss: 2.9165 - val_accuracy: 0.3487\n",
            "Epoch 6/128\n",
            "12/12 [==============================] - 1s 83ms/step - loss: 2.5618 - accuracy: 0.4410 - val_loss: 1.6308 - val_accuracy: 0.4790\n",
            "Epoch 7/128\n",
            "12/12 [==============================] - 1s 84ms/step - loss: 1.4198 - accuracy: 0.5337 - val_loss: 2.1081 - val_accuracy: 0.3613\n",
            "Epoch 8/128\n",
            "12/12 [==============================] - 1s 86ms/step - loss: 1.1959 - accuracy: 0.5337 - val_loss: 3.1555 - val_accuracy: 0.2983\n",
            "Epoch 9/128\n",
            "12/12 [==============================] - 1s 89ms/step - loss: 1.7374 - accuracy: 0.4522 - val_loss: 2.0537 - val_accuracy: 0.4160\n",
            "Epoch 10/128\n",
            "12/12 [==============================] - 1s 91ms/step - loss: 1.8743 - accuracy: 0.4466 - val_loss: 5.0298 - val_accuracy: 0.1218\n",
            "Epoch 11/128\n",
            "12/12 [==============================] - 1s 90ms/step - loss: 3.3086 - accuracy: 0.3933 - val_loss: 2.2655 - val_accuracy: 0.5042\n",
            "Epoch 12/128\n",
            "12/12 [==============================] - 1s 92ms/step - loss: 2.5502 - accuracy: 0.4242 - val_loss: 1.6892 - val_accuracy: 0.4160\n",
            "Epoch 13/128\n",
            "12/12 [==============================] - 1s 84ms/step - loss: 1.1699 - accuracy: 0.5618 - val_loss: 1.1806 - val_accuracy: 0.5168\n",
            "Epoch 14/128\n",
            "12/12 [==============================] - 1s 83ms/step - loss: 1.4613 - accuracy: 0.5084 - val_loss: 1.3559 - val_accuracy: 0.5756\n",
            "Epoch 15/128\n",
            "12/12 [==============================] - 1s 85ms/step - loss: 1.0367 - accuracy: 0.6433 - val_loss: 0.9525 - val_accuracy: 0.6218\n",
            "Epoch 16/128\n",
            "12/12 [==============================] - 1s 89ms/step - loss: 0.8704 - accuracy: 0.6489 - val_loss: 1.0050 - val_accuracy: 0.6218\n",
            "Epoch 17/128\n",
            "12/12 [==============================] - 1s 85ms/step - loss: 0.9670 - accuracy: 0.6067 - val_loss: 1.4965 - val_accuracy: 0.4748\n",
            "Epoch 18/128\n",
            "12/12 [==============================] - 1s 85ms/step - loss: 1.6935 - accuracy: 0.4691 - val_loss: 1.8036 - val_accuracy: 0.4244\n",
            "Epoch 19/128\n",
            "12/12 [==============================] - 1s 84ms/step - loss: 1.2532 - accuracy: 0.5646 - val_loss: 1.4770 - val_accuracy: 0.4244\n",
            "Epoch 20/128\n",
            "12/12 [==============================] - 1s 84ms/step - loss: 0.9850 - accuracy: 0.6180 - val_loss: 0.9987 - val_accuracy: 0.6008\n",
            "Epoch 21/128\n",
            "12/12 [==============================] - 1s 86ms/step - loss: 0.7620 - accuracy: 0.7022 - val_loss: 0.9811 - val_accuracy: 0.5672\n",
            "Epoch 22/128\n",
            "12/12 [==============================] - 1s 85ms/step - loss: 0.6881 - accuracy: 0.7388 - val_loss: 0.9636 - val_accuracy: 0.5756\n",
            "Epoch 23/128\n",
            "12/12 [==============================] - 1s 85ms/step - loss: 0.7586 - accuracy: 0.6826 - val_loss: 0.9437 - val_accuracy: 0.6303\n",
            "Epoch 24/128\n",
            "12/12 [==============================] - 1s 85ms/step - loss: 0.8458 - accuracy: 0.6657 - val_loss: 1.0284 - val_accuracy: 0.5378\n",
            "Epoch 25/128\n",
            "12/12 [==============================] - 1s 85ms/step - loss: 0.6766 - accuracy: 0.7331 - val_loss: 0.9083 - val_accuracy: 0.6008\n",
            "Epoch 26/128\n",
            "12/12 [==============================] - 1s 85ms/step - loss: 0.6589 - accuracy: 0.7388 - val_loss: 0.7967 - val_accuracy: 0.6723\n",
            "Epoch 27/128\n",
            "12/12 [==============================] - 1s 85ms/step - loss: 0.7239 - accuracy: 0.6882 - val_loss: 0.8773 - val_accuracy: 0.6513\n",
            "Epoch 28/128\n",
            "12/12 [==============================] - 1s 85ms/step - loss: 0.6830 - accuracy: 0.7275 - val_loss: 1.2248 - val_accuracy: 0.5000\n",
            "Epoch 29/128\n",
            "12/12 [==============================] - 1s 84ms/step - loss: 0.7276 - accuracy: 0.6938 - val_loss: 1.0496 - val_accuracy: 0.5924\n",
            "Epoch 30/128\n",
            "12/12 [==============================] - 1s 86ms/step - loss: 0.8920 - accuracy: 0.6433 - val_loss: 0.9692 - val_accuracy: 0.6176\n",
            "Epoch 31/128\n",
            "12/12 [==============================] - 1s 86ms/step - loss: 0.8961 - accuracy: 0.6517 - val_loss: 1.3079 - val_accuracy: 0.5000\n",
            "Epoch 32/128\n",
            "12/12 [==============================] - 1s 85ms/step - loss: 0.8674 - accuracy: 0.6489 - val_loss: 0.9829 - val_accuracy: 0.5798\n",
            "Epoch 33/128\n",
            "12/12 [==============================] - 1s 84ms/step - loss: 0.5322 - accuracy: 0.7893 - val_loss: 1.0369 - val_accuracy: 0.5672\n",
            "Epoch 34/128\n",
            "12/12 [==============================] - 1s 85ms/step - loss: 0.5690 - accuracy: 0.7725 - val_loss: 0.9155 - val_accuracy: 0.6092\n",
            "Epoch 35/128\n",
            "12/12 [==============================] - 1s 85ms/step - loss: 0.5645 - accuracy: 0.7865 - val_loss: 1.1240 - val_accuracy: 0.5420\n",
            "Epoch 36/128\n",
            "12/12 [==============================] - 1s 85ms/step - loss: 0.6388 - accuracy: 0.7191 - val_loss: 0.8948 - val_accuracy: 0.6303\n",
            "Epoch 37/128\n",
            "12/12 [==============================] - 1s 85ms/step - loss: 0.5453 - accuracy: 0.7837 - val_loss: 0.7958 - val_accuracy: 0.6555\n",
            "Epoch 38/128\n",
            "12/12 [==============================] - 1s 85ms/step - loss: 0.5192 - accuracy: 0.8034 - val_loss: 1.2726 - val_accuracy: 0.5756\n",
            "Epoch 39/128\n",
            "12/12 [==============================] - 1s 86ms/step - loss: 0.5922 - accuracy: 0.7781 - val_loss: 1.2095 - val_accuracy: 0.4916\n",
            "Epoch 40/128\n",
            "12/12 [==============================] - 1s 84ms/step - loss: 0.6396 - accuracy: 0.7500 - val_loss: 1.0469 - val_accuracy: 0.6050\n",
            "Epoch 41/128\n",
            "12/12 [==============================] - 1s 84ms/step - loss: 0.5940 - accuracy: 0.7669 - val_loss: 0.7541 - val_accuracy: 0.6639\n",
            "Epoch 42/128\n",
            "12/12 [==============================] - 1s 86ms/step - loss: 0.5188 - accuracy: 0.7949 - val_loss: 0.8912 - val_accuracy: 0.6429\n",
            "Epoch 43/128\n",
            "12/12 [==============================] - 1s 86ms/step - loss: 0.6676 - accuracy: 0.7275 - val_loss: 2.6783 - val_accuracy: 0.2563\n",
            "Epoch 44/128\n",
            "12/12 [==============================] - 1s 85ms/step - loss: 1.3628 - accuracy: 0.5197 - val_loss: 1.7645 - val_accuracy: 0.5210\n",
            "Epoch 45/128\n",
            "12/12 [==============================] - 1s 84ms/step - loss: 1.0023 - accuracy: 0.5955 - val_loss: 1.3365 - val_accuracy: 0.5630\n",
            "Epoch 46/128\n",
            "12/12 [==============================] - 1s 85ms/step - loss: 0.9762 - accuracy: 0.6264 - val_loss: 0.9230 - val_accuracy: 0.6176\n",
            "Epoch 47/128\n",
            "12/12 [==============================] - 1s 84ms/step - loss: 0.7677 - accuracy: 0.7022 - val_loss: 1.3831 - val_accuracy: 0.4916\n",
            "Epoch 48/128\n",
            "12/12 [==============================] - 1s 86ms/step - loss: 0.7728 - accuracy: 0.7107 - val_loss: 1.2084 - val_accuracy: 0.5252\n",
            "Epoch 49/128\n",
            "12/12 [==============================] - 1s 85ms/step - loss: 0.6836 - accuracy: 0.7303 - val_loss: 0.8164 - val_accuracy: 0.6849\n",
            "Epoch 50/128\n",
            "12/12 [==============================] - 1s 85ms/step - loss: 0.7249 - accuracy: 0.7079 - val_loss: 0.8424 - val_accuracy: 0.6891\n",
            "Epoch 51/128\n",
            "12/12 [==============================] - 1s 85ms/step - loss: 0.6937 - accuracy: 0.7360 - val_loss: 0.9903 - val_accuracy: 0.6471\n",
            "Epoch 52/128\n",
            "12/12 [==============================] - 1s 85ms/step - loss: 0.7549 - accuracy: 0.7022 - val_loss: 0.9536 - val_accuracy: 0.6303\n",
            "Epoch 53/128\n",
            "12/12 [==============================] - 1s 84ms/step - loss: 0.7061 - accuracy: 0.7275 - val_loss: 0.9106 - val_accuracy: 0.6387\n",
            "Epoch 54/128\n",
            "12/12 [==============================] - 1s 85ms/step - loss: 0.5988 - accuracy: 0.7921 - val_loss: 0.8662 - val_accuracy: 0.6723\n",
            "Epoch 55/128\n",
            "12/12 [==============================] - 1s 85ms/step - loss: 0.5951 - accuracy: 0.7893 - val_loss: 1.0398 - val_accuracy: 0.6261\n",
            "Epoch 56/128\n",
            "12/12 [==============================] - 1s 85ms/step - loss: 0.6218 - accuracy: 0.7893 - val_loss: 0.8371 - val_accuracy: 0.6681\n",
            "Epoch 57/128\n",
            "12/12 [==============================] - 1s 85ms/step - loss: 0.5882 - accuracy: 0.7893 - val_loss: 0.8624 - val_accuracy: 0.6345\n",
            "Epoch 58/128\n",
            "12/12 [==============================] - 1s 84ms/step - loss: 0.5899 - accuracy: 0.8006 - val_loss: 0.8315 - val_accuracy: 0.6513\n",
            "Epoch 59/128\n",
            "12/12 [==============================] - 1s 85ms/step - loss: 0.5829 - accuracy: 0.8034 - val_loss: 1.1278 - val_accuracy: 0.5504\n",
            "Epoch 60/128\n",
            "12/12 [==============================] - 1s 85ms/step - loss: 0.8946 - accuracy: 0.6292 - val_loss: 1.0045 - val_accuracy: 0.6303\n",
            "Epoch 61/128\n",
            "12/12 [==============================] - 1s 86ms/step - loss: 0.6417 - accuracy: 0.7556 - val_loss: 0.9692 - val_accuracy: 0.6261\n",
            "Epoch 62/128\n",
            "12/12 [==============================] - 1s 85ms/step - loss: 0.6737 - accuracy: 0.7331 - val_loss: 1.1247 - val_accuracy: 0.5966\n",
            "Epoch 63/128\n",
            "12/12 [==============================] - 1s 85ms/step - loss: 0.6916 - accuracy: 0.7219 - val_loss: 0.9243 - val_accuracy: 0.6218\n",
            "Epoch 64/128\n",
            "12/12 [==============================] - 1s 86ms/step - loss: 0.5875 - accuracy: 0.7753 - val_loss: 1.1728 - val_accuracy: 0.5840\n",
            "Epoch 65/128\n",
            "12/12 [==============================] - 1s 85ms/step - loss: 0.7251 - accuracy: 0.6994 - val_loss: 1.0719 - val_accuracy: 0.5630\n",
            "Epoch 66/128\n",
            "12/12 [==============================] - 1s 84ms/step - loss: 0.8151 - accuracy: 0.6713 - val_loss: 0.8415 - val_accuracy: 0.6597\n",
            "Epoch 67/128\n",
            "12/12 [==============================] - 1s 84ms/step - loss: 0.6212 - accuracy: 0.7725 - val_loss: 0.9085 - val_accuracy: 0.6176\n",
            "Epoch 68/128\n",
            "12/12 [==============================] - 1s 86ms/step - loss: 0.5897 - accuracy: 0.7612 - val_loss: 1.1081 - val_accuracy: 0.5420\n",
            "Epoch 69/128\n",
            "12/12 [==============================] - 1s 85ms/step - loss: 0.7424 - accuracy: 0.7275 - val_loss: 1.2192 - val_accuracy: 0.5420\n",
            "Epoch 70/128\n",
            "12/12 [==============================] - 1s 85ms/step - loss: 0.6999 - accuracy: 0.6938 - val_loss: 1.0923 - val_accuracy: 0.5840\n",
            "Epoch 71/128\n",
            "12/12 [==============================] - 1s 85ms/step - loss: 0.6389 - accuracy: 0.7669 - val_loss: 0.8205 - val_accuracy: 0.6471\n",
            "Epoch 72/128\n",
            "12/12 [==============================] - 1s 85ms/step - loss: 0.5482 - accuracy: 0.8090 - val_loss: 0.7923 - val_accuracy: 0.6933\n",
            "Epoch 73/128\n",
            "12/12 [==============================] - 1s 85ms/step - loss: 0.5118 - accuracy: 0.8258 - val_loss: 1.0121 - val_accuracy: 0.6134\n",
            "Epoch 74/128\n",
            "12/12 [==============================] - 1s 85ms/step - loss: 0.6035 - accuracy: 0.7556 - val_loss: 0.8359 - val_accuracy: 0.6555\n",
            "Epoch 75/128\n",
            "12/12 [==============================] - 1s 84ms/step - loss: 0.5325 - accuracy: 0.8090 - val_loss: 1.2204 - val_accuracy: 0.5588\n",
            "Epoch 76/128\n",
            "12/12 [==============================] - 1s 86ms/step - loss: 0.5825 - accuracy: 0.7753 - val_loss: 0.9007 - val_accuracy: 0.6597\n",
            "Epoch 77/128\n",
            "12/12 [==============================] - 1s 85ms/step - loss: 0.5138 - accuracy: 0.8062 - val_loss: 0.7924 - val_accuracy: 0.6807\n",
            "Epoch 78/128\n",
            "12/12 [==============================] - 1s 85ms/step - loss: 0.5241 - accuracy: 0.8090 - val_loss: 0.8841 - val_accuracy: 0.6303\n",
            "Epoch 79/128\n",
            "12/12 [==============================] - 1s 85ms/step - loss: 0.5407 - accuracy: 0.8090 - val_loss: 0.9402 - val_accuracy: 0.6134\n",
            "Epoch 80/128\n",
            "12/12 [==============================] - 1s 85ms/step - loss: 0.5262 - accuracy: 0.7893 - val_loss: 1.0561 - val_accuracy: 0.5840\n",
            "Epoch 81/128\n",
            "12/12 [==============================] - 1s 85ms/step - loss: 0.5365 - accuracy: 0.7865 - val_loss: 0.7699 - val_accuracy: 0.7059\n",
            "Epoch 82/128\n",
            "12/12 [==============================] - 1s 85ms/step - loss: 0.4861 - accuracy: 0.8062 - val_loss: 0.8550 - val_accuracy: 0.6555\n",
            "Epoch 83/128\n",
            "12/12 [==============================] - 1s 85ms/step - loss: 0.4754 - accuracy: 0.8287 - val_loss: 1.3255 - val_accuracy: 0.5420\n",
            "Epoch 84/128\n",
            "12/12 [==============================] - 1s 86ms/step - loss: 0.5322 - accuracy: 0.8090 - val_loss: 0.7666 - val_accuracy: 0.6975\n",
            "Epoch 85/128\n",
            "12/12 [==============================] - 1s 86ms/step - loss: 0.5084 - accuracy: 0.7949 - val_loss: 0.9761 - val_accuracy: 0.6261\n",
            "Epoch 86/128\n",
            "12/12 [==============================] - 1s 85ms/step - loss: 0.6198 - accuracy: 0.7360 - val_loss: 1.0868 - val_accuracy: 0.5924\n",
            "Epoch 87/128\n",
            "12/12 [==============================] - 1s 85ms/step - loss: 0.6018 - accuracy: 0.7444 - val_loss: 1.2116 - val_accuracy: 0.5462\n",
            "Epoch 88/128\n",
            "12/12 [==============================] - 1s 86ms/step - loss: 0.6512 - accuracy: 0.7416 - val_loss: 1.7809 - val_accuracy: 0.4622\n",
            "Epoch 89/128\n",
            "12/12 [==============================] - 1s 85ms/step - loss: 0.9886 - accuracy: 0.6376 - val_loss: 1.7492 - val_accuracy: 0.4958\n",
            "Epoch 90/128\n",
            "12/12 [==============================] - 1s 85ms/step - loss: 0.7152 - accuracy: 0.7303 - val_loss: 1.1251 - val_accuracy: 0.5966\n",
            "Epoch 91/128\n",
            "12/12 [==============================] - 1s 85ms/step - loss: 0.5951 - accuracy: 0.7781 - val_loss: 1.5942 - val_accuracy: 0.4958\n",
            "Epoch 92/128\n",
            "12/12 [==============================] - 1s 85ms/step - loss: 1.0409 - accuracy: 0.6152 - val_loss: 1.0964 - val_accuracy: 0.5840\n",
            "Epoch 93/128\n",
            "12/12 [==============================] - 1s 85ms/step - loss: 0.7223 - accuracy: 0.6966 - val_loss: 1.0190 - val_accuracy: 0.6092\n",
            "Epoch 94/128\n",
            "12/12 [==============================] - 1s 85ms/step - loss: 0.5333 - accuracy: 0.7781 - val_loss: 0.8344 - val_accuracy: 0.6723\n",
            "Epoch 95/128\n",
            "12/12 [==============================] - 1s 85ms/step - loss: 0.4602 - accuracy: 0.8174 - val_loss: 0.7545 - val_accuracy: 0.6933\n",
            "Epoch 96/128\n",
            "12/12 [==============================] - 1s 87ms/step - loss: 0.4996 - accuracy: 0.8090 - val_loss: 0.7661 - val_accuracy: 0.6681\n",
            "Epoch 97/128\n",
            "12/12 [==============================] - 1s 84ms/step - loss: 0.4965 - accuracy: 0.8034 - val_loss: 0.8358 - val_accuracy: 0.6429\n",
            "Epoch 98/128\n",
            "12/12 [==============================] - 1s 85ms/step - loss: 0.4327 - accuracy: 0.8511 - val_loss: 1.0050 - val_accuracy: 0.6134\n",
            "Epoch 99/128\n",
            "12/12 [==============================] - 1s 85ms/step - loss: 0.4811 - accuracy: 0.8034 - val_loss: 0.7442 - val_accuracy: 0.6891\n",
            "Epoch 100/128\n",
            "12/12 [==============================] - 1s 86ms/step - loss: 0.4356 - accuracy: 0.8315 - val_loss: 0.8908 - val_accuracy: 0.6387\n",
            "Epoch 101/128\n",
            "12/12 [==============================] - 1s 85ms/step - loss: 0.4889 - accuracy: 0.8118 - val_loss: 0.8769 - val_accuracy: 0.6723\n",
            "Epoch 102/128\n",
            "12/12 [==============================] - 1s 85ms/step - loss: 0.3991 - accuracy: 0.8539 - val_loss: 0.7798 - val_accuracy: 0.6807\n",
            "Epoch 103/128\n",
            "12/12 [==============================] - 1s 85ms/step - loss: 0.4947 - accuracy: 0.7978 - val_loss: 1.0076 - val_accuracy: 0.6134\n",
            "Epoch 104/128\n",
            "12/12 [==============================] - 1s 85ms/step - loss: 0.5352 - accuracy: 0.7837 - val_loss: 1.1300 - val_accuracy: 0.6008\n",
            "Epoch 105/128\n",
            "12/12 [==============================] - 1s 85ms/step - loss: 0.4421 - accuracy: 0.8287 - val_loss: 0.7798 - val_accuracy: 0.6639\n",
            "Epoch 106/128\n",
            "12/12 [==============================] - 1s 85ms/step - loss: 0.4334 - accuracy: 0.8343 - val_loss: 1.3772 - val_accuracy: 0.5504\n",
            "Epoch 107/128\n",
            "12/12 [==============================] - 1s 86ms/step - loss: 0.6203 - accuracy: 0.7416 - val_loss: 1.1413 - val_accuracy: 0.5756\n",
            "Epoch 108/128\n",
            "12/12 [==============================] - 1s 85ms/step - loss: 0.5121 - accuracy: 0.7893 - val_loss: 0.7376 - val_accuracy: 0.6975\n",
            "Epoch 109/128\n",
            "12/12 [==============================] - 1s 85ms/step - loss: 0.4154 - accuracy: 0.8455 - val_loss: 0.9645 - val_accuracy: 0.6261\n",
            "Epoch 110/128\n",
            "12/12 [==============================] - 1s 85ms/step - loss: 0.3946 - accuracy: 0.8455 - val_loss: 0.7312 - val_accuracy: 0.7059\n",
            "Epoch 111/128\n",
            "12/12 [==============================] - 1s 85ms/step - loss: 0.3727 - accuracy: 0.8427 - val_loss: 0.7708 - val_accuracy: 0.6723\n",
            "Epoch 112/128\n",
            "12/12 [==============================] - 1s 85ms/step - loss: 0.4253 - accuracy: 0.8174 - val_loss: 0.8818 - val_accuracy: 0.6723\n",
            "Epoch 113/128\n",
            "12/12 [==============================] - 1s 85ms/step - loss: 0.4357 - accuracy: 0.8287 - val_loss: 0.7413 - val_accuracy: 0.6639\n",
            "Epoch 114/128\n",
            "12/12 [==============================] - 1s 85ms/step - loss: 0.3652 - accuracy: 0.8652 - val_loss: 0.7583 - val_accuracy: 0.7059\n",
            "Epoch 115/128\n",
            "12/12 [==============================] - 1s 84ms/step - loss: 0.3760 - accuracy: 0.8539 - val_loss: 0.7138 - val_accuracy: 0.7101\n",
            "Epoch 116/128\n",
            "12/12 [==============================] - 1s 88ms/step - loss: 0.3578 - accuracy: 0.8539 - val_loss: 0.7357 - val_accuracy: 0.7059\n",
            "Epoch 117/128\n",
            "12/12 [==============================] - 1s 86ms/step - loss: 0.3612 - accuracy: 0.8736 - val_loss: 0.7353 - val_accuracy: 0.6933\n",
            "Epoch 118/128\n",
            "12/12 [==============================] - 1s 86ms/step - loss: 0.4192 - accuracy: 0.8118 - val_loss: 1.6633 - val_accuracy: 0.4958\n",
            "Epoch 119/128\n",
            "12/12 [==============================] - 1s 87ms/step - loss: 0.7579 - accuracy: 0.6966 - val_loss: 0.9704 - val_accuracy: 0.6513\n",
            "Epoch 120/128\n",
            "12/12 [==============================] - 1s 85ms/step - loss: 0.5931 - accuracy: 0.7275 - val_loss: 2.6359 - val_accuracy: 0.3571\n",
            "Epoch 121/128\n",
            "12/12 [==============================] - 1s 86ms/step - loss: 0.8808 - accuracy: 0.6685 - val_loss: 0.9069 - val_accuracy: 0.6723\n",
            "Epoch 122/128\n",
            "12/12 [==============================] - 1s 90ms/step - loss: 0.4604 - accuracy: 0.7893 - val_loss: 0.8415 - val_accuracy: 0.6681\n",
            "Epoch 123/128\n",
            "12/12 [==============================] - 1s 87ms/step - loss: 0.3803 - accuracy: 0.8567 - val_loss: 0.9252 - val_accuracy: 0.6345\n",
            "Epoch 124/128\n",
            "12/12 [==============================] - 1s 85ms/step - loss: 0.4268 - accuracy: 0.8174 - val_loss: 1.0381 - val_accuracy: 0.6176\n",
            "Epoch 125/128\n",
            "12/12 [==============================] - 1s 88ms/step - loss: 0.4863 - accuracy: 0.7865 - val_loss: 0.7179 - val_accuracy: 0.7101\n",
            "Epoch 126/128\n",
            "12/12 [==============================] - 1s 89ms/step - loss: 0.3354 - accuracy: 0.8624 - val_loss: 0.8242 - val_accuracy: 0.6849\n",
            "Epoch 127/128\n",
            "12/12 [==============================] - 1s 85ms/step - loss: 0.3722 - accuracy: 0.8427 - val_loss: 1.0565 - val_accuracy: 0.6555\n",
            "Epoch 128/128\n",
            "12/12 [==============================] - 1s 89ms/step - loss: 0.4191 - accuracy: 0.8343 - val_loss: 0.7384 - val_accuracy: 0.7269\n"
          ]
        }
      ],
      "source": [
        "### write your code here to train your model\n",
        "epochs = 128\n",
        "history = model.fit(train_images, train_labels, validation_data=(test_images, test_labels), epochs=epochs)"
      ]
    },
    {
      "cell_type": "markdown",
      "metadata": {
        "id": "Bx80XJHjw2vI"
      },
      "source": [
        "#### (e) Plot the training loss across the different epochs [**1 point**]"
      ]
    },
    {
      "cell_type": "code",
      "execution_count": 8,
      "metadata": {
        "colab": {
          "base_uri": "https://localhost:8080/",
          "height": 490
        },
        "id": "2olEF8NB6r3H",
        "outputId": "dc26fd30-c070-4c5e-8349-0abd226ed11e"
      },
      "outputs": [
        {
          "data": {
            "text/plain": [
              "<matplotlib.legend.Legend at 0x134a52c50>"
            ]
          },
          "execution_count": 8,
          "metadata": {},
          "output_type": "execute_result"
        },
        {
          "data": {
            "image/png": "[encoded data removed]",
            "text/plain": [
              "<Figure size 640x480 with 1 Axes>"
            ]
          },
          "metadata": {},
          "output_type": "display_data"
        }
      ],
      "source": [
        "### write your code here to plot loss\n",
        "plt.plot(history.history['loss'])\n",
        "plt.plot(history.history['val_loss'])\n",
        "plt.title('model loss')\n",
        "plt.ylabel('loss')\n",
        "plt.xlabel('epoch')\n",
        "plt.legend(['train', 'validation'], loc='upper right')"
      ]
    },
    {
      "cell_type": "markdown",
      "metadata": {
        "id": "lx3JLnhQyQLZ"
      },
      "source": [
        "#### (f) What is the overall accuracy and per-class accuracy on test dataset? [**2 points**]"
      ]
    },
    {
      "cell_type": "code",
      "execution_count": 9,
      "metadata": {
        "colab": {
          "base_uri": "https://localhost:8080/"
        },
        "id": "dLQhrX4F6t2w",
        "outputId": "eca4d472-b0b3-4524-bb0f-405c5d495fb0"
      },
      "outputs": [
        {
          "name": "stdout",
          "output_type": "stream",
          "text": [
            "8/8 [==============================] - 0s 32ms/step - loss: 0.7384 - accuracy: 0.7269\n"
          ]
        }
      ],
      "source": [
        "#### write your code to report overall accuracy on test set\n",
        "test_loss, test_acc = model.evaluate(test_images, test_labels)"
      ]
    },
    {
      "cell_type": "markdown",
      "metadata": {
        "id": "Sm9unSC26ag1"
      },
      "source": [
        "What is the overall accuracy? [72.69%]"
      ]
    },
    {
      "cell_type": "code",
      "execution_count": 11,
      "metadata": {
        "id": "31X-0hsw6v_n"
      },
      "outputs": [
        {
          "name": "stdout",
          "output_type": "stream",
          "text": [
            "1/1 [==============================] - 0s 32ms/step\n",
            "1/1 [==============================] - 0s 19ms/step\n",
            "1/1 [==============================] - 0s 18ms/step\n",
            "1/1 [==============================] - 0s 18ms/step\n",
            "1/1 [==============================] - 0s 20ms/step\n",
            "1/1 [==============================] - 0s 20ms/step\n",
            "1/1 [==============================] - 0s 19ms/step\n",
            "1/1 [==============================] - 0s 19ms/step\n",
            "1/1 [==============================] - 0s 19ms/step\n",
            "1/1 [==============================] - 0s 19ms/step\n",
            "1/1 [==============================] - 0s 18ms/step\n",
            "1/1 [==============================] - 0s 18ms/step\n",
            "1/1 [==============================] - 0s 18ms/step\n",
            "1/1 [==============================] - 0s 18ms/step\n",
            "1/1 [==============================] - 0s 18ms/step\n",
            "1/1 [==============================] - 0s 20ms/step\n",
            "1/1 [==============================] - 0s 22ms/step\n",
            "1/1 [==============================] - 0s 20ms/step\n",
            "1/1 [==============================] - 0s 28ms/step\n",
            "1/1 [==============================] - 0s 21ms/step\n",
            "1/1 [==============================] - 0s 20ms/step\n",
            "1/1 [==============================] - 0s 21ms/step\n",
            "1/1 [==============================] - 0s 19ms/step\n",
            "1/1 [==============================] - 0s 19ms/step\n",
            "1/1 [==============================] - 0s 19ms/step\n",
            "1/1 [==============================] - 0s 20ms/step\n",
            "1/1 [==============================] - 0s 20ms/step\n",
            "1/1 [==============================] - 0s 19ms/step\n",
            "1/1 [==============================] - 0s 20ms/step\n",
            "1/1 [==============================] - 0s 20ms/step\n",
            "1/1 [==============================] - 0s 20ms/step\n",
            "1/1 [==============================] - 0s 21ms/step\n",
            "1/1 [==============================] - 0s 20ms/step\n",
            "1/1 [==============================] - 0s 19ms/step\n",
            "1/1 [==============================] - 0s 20ms/step\n",
            "1/1 [==============================] - 0s 19ms/step\n",
            "1/1 [==============================] - 0s 20ms/step\n",
            "1/1 [==============================] - 0s 19ms/step\n",
            "1/1 [==============================] - 0s 19ms/step\n",
            "1/1 [==============================] - 0s 19ms/step\n",
            "1/1 [==============================] - 0s 19ms/step\n",
            "1/1 [==============================] - 0s 19ms/step\n",
            "1/1 [==============================] - 0s 19ms/step\n",
            "1/1 [==============================] - 0s 19ms/step\n",
            "1/1 [==============================] - 0s 19ms/step\n",
            "1/1 [==============================] - 0s 18ms/step\n",
            "1/1 [==============================] - 0s 18ms/step\n",
            "1/1 [==============================] - 0s 20ms/step\n",
            "1/1 [==============================] - 0s 20ms/step\n",
            "1/1 [==============================] - 0s 20ms/step\n",
            "1/1 [==============================] - 0s 19ms/step\n",
            "1/1 [==============================] - 0s 20ms/step\n",
            "1/1 [==============================] - 0s 20ms/step\n",
            "1/1 [==============================] - 0s 20ms/step\n",
            "1/1 [==============================] - 0s 25ms/step\n",
            "1/1 [==============================] - 0s 18ms/step\n",
            "1/1 [==============================] - 0s 20ms/step\n",
            "1/1 [==============================] - 0s 19ms/step\n",
            "1/1 [==============================] - 0s 19ms/step\n",
            "1/1 [==============================] - 0s 18ms/step\n",
            "1/1 [==============================] - 0s 19ms/step\n",
            "1/1 [==============================] - 0s 19ms/step\n",
            "1/1 [==============================] - 0s 19ms/step\n",
            "1/1 [==============================] - 0s 19ms/step\n",
            "1/1 [==============================] - 0s 18ms/step\n",
            "1/1 [==============================] - 0s 18ms/step\n",
            "1/1 [==============================] - 0s 19ms/step\n",
            "1/1 [==============================] - 0s 19ms/step\n",
            "1/1 [==============================] - 0s 18ms/step\n",
            "1/1 [==============================] - 0s 20ms/step\n",
            "1/1 [==============================] - 0s 18ms/step\n",
            "1/1 [==============================] - 0s 19ms/step\n",
            "1/1 [==============================] - 0s 19ms/step\n",
            "1/1 [==============================] - 0s 19ms/step\n",
            "1/1 [==============================] - 0s 18ms/step\n",
            "1/1 [==============================] - 0s 19ms/step\n",
            "1/1 [==============================] - 0s 20ms/step\n",
            "1/1 [==============================] - 0s 19ms/step\n",
            "1/1 [==============================] - 0s 19ms/step\n",
            "1/1 [==============================] - 0s 19ms/step\n",
            "1/1 [==============================] - 0s 18ms/step\n",
            "1/1 [==============================] - 0s 18ms/step\n",
            "1/1 [==============================] - 0s 18ms/step\n",
            "1/1 [==============================] - 0s 18ms/step\n",
            "1/1 [==============================] - 0s 18ms/step\n",
            "1/1 [==============================] - 0s 20ms/step\n",
            "1/1 [==============================] - 0s 18ms/step\n",
            "1/1 [==============================] - 0s 19ms/step\n",
            "1/1 [==============================] - 0s 19ms/step\n",
            "1/1 [==============================] - 0s 18ms/step\n",
            "1/1 [==============================] - 0s 19ms/step\n",
            "1/1 [==============================] - 0s 19ms/step\n",
            "1/1 [==============================] - 0s 26ms/step\n",
            "1/1 [==============================] - 0s 18ms/step\n",
            "1/1 [==============================] - 0s 18ms/step\n",
            "1/1 [==============================] - 0s 18ms/step\n",
            "1/1 [==============================] - 0s 19ms/step\n",
            "1/1 [==============================] - 0s 18ms/step\n",
            "1/1 [==============================] - 0s 18ms/step\n",
            "1/1 [==============================] - 0s 18ms/step\n",
            "1/1 [==============================] - 0s 19ms/step\n",
            "1/1 [==============================] - 0s 18ms/step\n",
            "1/1 [==============================] - 0s 18ms/step\n",
            "1/1 [==============================] - 0s 20ms/step\n",
            "1/1 [==============================] - 0s 18ms/step\n",
            "1/1 [==============================] - 0s 18ms/step\n",
            "1/1 [==============================] - 0s 19ms/step\n",
            "1/1 [==============================] - 0s 18ms/step\n",
            "1/1 [==============================] - 0s 18ms/step\n",
            "1/1 [==============================] - 0s 19ms/step\n",
            "1/1 [==============================] - 0s 18ms/step\n",
            "1/1 [==============================] - 0s 18ms/step\n",
            "1/1 [==============================] - 0s 18ms/step\n",
            "1/1 [==============================] - 0s 19ms/step\n",
            "1/1 [==============================] - 0s 19ms/step\n",
            "1/1 [==============================] - 0s 18ms/step\n",
            "1/1 [==============================] - 0s 18ms/step\n",
            "1/1 [==============================] - 0s 19ms/step\n",
            "1/1 [==============================] - 0s 19ms/step\n",
            "1/1 [==============================] - 0s 18ms/step\n",
            "1/1 [==============================] - 0s 18ms/step\n",
            "1/1 [==============================] - 0s 20ms/step\n",
            "1/1 [==============================] - 0s 19ms/step\n",
            "1/1 [==============================] - 0s 21ms/step\n",
            "1/1 [==============================] - 0s 20ms/step\n",
            "1/1 [==============================] - 0s 19ms/step\n",
            "1/1 [==============================] - 0s 29ms/step\n",
            "1/1 [==============================] - 0s 20ms/step\n",
            "1/1 [==============================] - 0s 22ms/step\n",
            "1/1 [==============================] - 0s 22ms/step\n",
            "1/1 [==============================] - 0s 20ms/step\n",
            "1/1 [==============================] - 0s 23ms/step\n",
            "1/1 [==============================] - 0s 23ms/step\n",
            "1/1 [==============================] - 0s 24ms/step\n",
            "1/1 [==============================] - 0s 19ms/step\n",
            "1/1 [==============================] - 0s 19ms/step\n",
            "1/1 [==============================] - 0s 21ms/step\n",
            "1/1 [==============================] - 0s 20ms/step\n",
            "1/1 [==============================] - 0s 21ms/step\n",
            "1/1 [==============================] - 0s 22ms/step\n",
            "1/1 [==============================] - 0s 22ms/step\n",
            "1/1 [==============================] - 0s 22ms/step\n",
            "1/1 [==============================] - 0s 21ms/step\n",
            "1/1 [==============================] - 0s 23ms/step\n",
            "1/1 [==============================] - 0s 22ms/step\n",
            "1/1 [==============================] - 0s 20ms/step\n",
            "1/1 [==============================] - 0s 21ms/step\n",
            "1/1 [==============================] - 0s 22ms/step\n",
            "1/1 [==============================] - 0s 23ms/step\n",
            "1/1 [==============================] - 0s 21ms/step\n",
            "1/1 [==============================] - 0s 21ms/step\n",
            "1/1 [==============================] - 0s 20ms/step\n",
            "1/1 [==============================] - 0s 23ms/step\n",
            "1/1 [==============================] - 0s 19ms/step\n",
            "1/1 [==============================] - 0s 19ms/step\n",
            "1/1 [==============================] - 0s 18ms/step\n",
            "1/1 [==============================] - 0s 18ms/step\n",
            "1/1 [==============================] - 0s 17ms/step\n",
            "1/1 [==============================] - 0s 18ms/step\n",
            "1/1 [==============================] - 0s 18ms/step\n",
            "1/1 [==============================] - 0s 19ms/step\n",
            "1/1 [==============================] - 0s 19ms/step\n",
            "1/1 [==============================] - 0s 19ms/step\n",
            "1/1 [==============================] - 0s 18ms/step\n",
            "1/1 [==============================] - 0s 18ms/step\n",
            "1/1 [==============================] - 0s 17ms/step\n",
            "1/1 [==============================] - 0s 18ms/step\n",
            "1/1 [==============================] - 0s 19ms/step\n",
            "1/1 [==============================] - 0s 18ms/step\n",
            "1/1 [==============================] - 0s 19ms/step\n",
            "1/1 [==============================] - 0s 18ms/step\n",
            "1/1 [==============================] - 0s 18ms/step\n",
            "1/1 [==============================] - 0s 18ms/step\n",
            "1/1 [==============================] - 0s 18ms/step\n",
            "1/1 [==============================] - 0s 17ms/step\n",
            "1/1 [==============================] - 0s 18ms/step\n",
            "1/1 [==============================] - 0s 18ms/step\n",
            "1/1 [==============================] - 0s 18ms/step\n",
            "1/1 [==============================] - 0s 18ms/step\n",
            "1/1 [==============================] - 0s 18ms/step\n",
            "1/1 [==============================] - 0s 18ms/step\n",
            "1/1 [==============================] - 0s 18ms/step\n",
            "1/1 [==============================] - 0s 18ms/step\n",
            "1/1 [==============================] - 0s 17ms/step\n",
            "1/1 [==============================] - 0s 18ms/step\n",
            "1/1 [==============================] - 0s 20ms/step\n",
            "1/1 [==============================] - 0s 17ms/step\n",
            "1/1 [==============================] - 0s 27ms/step\n",
            "1/1 [==============================] - 0s 18ms/step\n",
            "1/1 [==============================] - 0s 17ms/step\n",
            "1/1 [==============================] - 0s 18ms/step\n",
            "1/1 [==============================] - 0s 18ms/step\n",
            "1/1 [==============================] - 0s 18ms/step\n",
            "1/1 [==============================] - 0s 18ms/step\n",
            "1/1 [==============================] - 0s 18ms/step\n",
            "1/1 [==============================] - 0s 18ms/step\n",
            "1/1 [==============================] - 0s 18ms/step\n",
            "1/1 [==============================] - 0s 18ms/step\n",
            "1/1 [==============================] - 0s 18ms/step\n",
            "1/1 [==============================] - 0s 19ms/step\n",
            "1/1 [==============================] - 0s 21ms/step\n",
            "1/1 [==============================] - 0s 19ms/step\n",
            "1/1 [==============================] - 0s 20ms/step\n",
            "1/1 [==============================] - 0s 19ms/step\n",
            "1/1 [==============================] - 0s 19ms/step\n",
            "1/1 [==============================] - 0s 20ms/step\n",
            "1/1 [==============================] - 0s 22ms/step\n",
            "1/1 [==============================] - 0s 20ms/step\n",
            "1/1 [==============================] - 0s 19ms/step\n",
            "1/1 [==============================] - 0s 19ms/step\n",
            "1/1 [==============================] - 0s 20ms/step\n",
            "1/1 [==============================] - 0s 19ms/step\n",
            "1/1 [==============================] - 0s 19ms/step\n",
            "1/1 [==============================] - 0s 26ms/step\n",
            "1/1 [==============================] - 0s 20ms/step\n",
            "1/1 [==============================] - 0s 21ms/step\n",
            "1/1 [==============================] - 0s 20ms/step\n",
            "1/1 [==============================] - 0s 21ms/step\n",
            "1/1 [==============================] - 0s 20ms/step\n",
            "1/1 [==============================] - 0s 22ms/step\n",
            "1/1 [==============================] - 0s 18ms/step\n",
            "1/1 [==============================] - 0s 18ms/step\n",
            "1/1 [==============================] - 0s 18ms/step\n",
            "1/1 [==============================] - 0s 18ms/step\n",
            "1/1 [==============================] - 0s 18ms/step\n",
            "1/1 [==============================] - 0s 18ms/step\n",
            "1/1 [==============================] - 0s 18ms/step\n",
            "1/1 [==============================] - 0s 18ms/step\n",
            "1/1 [==============================] - 0s 18ms/step\n",
            "1/1 [==============================] - 0s 18ms/step\n",
            "1/1 [==============================] - 0s 18ms/step\n",
            "1/1 [==============================] - 0s 18ms/step\n",
            "1/1 [==============================] - 0s 18ms/step\n",
            "1/1 [==============================] - 0s 20ms/step\n",
            "1/1 [==============================] - 0s 20ms/step\n",
            "1/1 [==============================] - 0s 20ms/step\n",
            "1/1 [==============================] - 0s 20ms/step\n",
            "1/1 [==============================] - 0s 21ms/step\n",
            "Black spot: 54.69%\n",
            "canker: 85.48%\n",
            "greening: 85.71%\n",
            "healthy: 33.33%\n"
          ]
        }
      ],
      "source": [
        "### write your code to report per-class accuracy\n",
        "### you should have a list where index is the class label with value corresponding to accuracy for that class label\n",
        "\n",
        "# class names\n",
        "num_classes = 4\n",
        "class_names = ['Black spot', 'canker', 'greening', 'healthy']\n",
        "\n",
        "# Initialize counters as numpy arrays\n",
        "correct_predictions = np.zeros(num_classes, dtype=int)\n",
        "total_predictions = np.zeros(num_classes, dtype=int)\n",
        "\n",
        "# calculate per-class accuracy\n",
        "for i in range(len(test_images)):\n",
        "  prediction = model.predict(test_images[i].reshape(1, 256, 256, 3))\n",
        "  predicted_label = np.argmax(prediction)\n",
        "  actual_label = test_labels[i]\n",
        "\n",
        "  if predicted_label == actual_label:\n",
        "    correct_predictions[actual_label] += 1\n",
        "  total_predictions[actual_label] += 1\n",
        "\n",
        "per_class_accuracy = correct_predictions / total_predictions\n",
        "\n",
        "# print('Per-class accuracy:', per_class_accuracy)\n",
        "\n",
        "# print per-class accuracy with class names correct to 2 decimal places\n",
        "for i in range(num_classes):\n",
        "  print(f'{class_names[i]}: {per_class_accuracy[i] * 100:.2f}%')\n",
        "\n",
        "\n",
        "\n"
      ]
    }
  ],
  "metadata": {
    "accelerator": "GPU",
    "colab": {
      "gpuType": "T4",
      "provenance": []
    },
    "kernelspec": {
      "display_name": "Python 3",
      "name": "python3"
    },
    "language_info": {
      "codemirror_mode": {
        "name": "ipython",
        "version": 3
      },
      "file_extension": ".py",
      "mimetype": "text/x-python",
      "name": "python",
      "nbconvert_exporter": "python",
      "pygments_lexer": "ipython3",
      "version": "3.11.4"
    }
  },
  "nbformat": 4,
  "nbformat_minor": 0
}
